{
 "cells": [
  {
   "cell_type": "code",
   "execution_count": 1,
   "metadata": {},
   "outputs": [],
   "source": [
    "# Add project path to the PYTHONPATH\n",
    "\n",
    "import os\n",
    "import sys\n",
    "import numpy as np\n",
    "from pathlib import Path\n",
    "\n",
    "sys.path.append(Path(os.path.join(os.path.abspath(''), '../')).resolve().as_posix())"
   ]
  },
  {
   "cell_type": "code",
   "execution_count": 2,
   "metadata": {},
   "outputs": [],
   "source": [
    "import pickle"
   ]
  },
  {
   "cell_type": "code",
   "execution_count": 3,
   "metadata": {},
   "outputs": [],
   "source": [
    "from time import time"
   ]
  },
  {
   "cell_type": "code",
   "execution_count": 4,
   "metadata": {},
   "outputs": [],
   "source": [
    "import numpy as np\n",
    "import matplotlib.pyplot as plt\n",
    "from sklearn.metrics import confusion_matrix\n",
    "from sklearn.utils.multiclass import unique_labels"
   ]
  },
  {
   "cell_type": "code",
   "execution_count": 5,
   "metadata": {},
   "outputs": [],
   "source": [
    "def plot_confusion_matrix(y_true, y_pred, classes,\n",
    "                          normalize=False,\n",
    "                          title=None,\n",
    "                          cmap=plt.cm.Blues):\n",
    "    \"\"\"\n",
    "    This function prints and plots the confusion matrix.\n",
    "    Normalization can be applied by setting `normalize=True`.\n",
    "    \"\"\"\n",
    "    if not title:\n",
    "        if normalize:\n",
    "            title = 'Confusion matrix'\n",
    "        else:\n",
    "            title = 'Confusion matrix, without normalization'\n",
    "\n",
    "    # Compute confusion matrix\n",
    "    cm = confusion_matrix(y_true, y_pred)\n",
    "    # Only use the labels that appear in the data\n",
    "    classes = classes[unique_labels(y_true, y_pred)]\n",
    "    if normalize:\n",
    "        cm = cm.astype('float') / cm.sum(axis=1)[:, np.newaxis]\n",
    "        print(\"Confusion matrix\")\n",
    "    else:\n",
    "        print('Confusion matrix, without normalization')\n",
    "\n",
    "    print(cm)\n",
    "\n",
    "    fig, ax = plt.subplots()\n",
    "    im = ax.imshow(cm, interpolation='nearest', cmap=cmap)\n",
    "    ax.figure.colorbar(im, ax=ax)\n",
    "    # We want to show all ticks...\n",
    "    ax.set(xticks=np.arange(cm.shape[1]),\n",
    "           yticks=np.arange(cm.shape[0]),\n",
    "           # ... and label them with the respective list entries\n",
    "           xticklabels=classes, yticklabels=classes,\n",
    "           title=title,\n",
    "           ylabel='True label',\n",
    "           xlabel='Predicted label')\n",
    "\n",
    "    # Rotate the tick labels and set their alignment.\n",
    "    plt.setp(ax.get_xticklabels(), rotation=45, ha=\"right\",\n",
    "             rotation_mode=\"anchor\")\n",
    "\n",
    "    # Loop over data dimensions and create text annotations.\n",
    "    fmt = '.2f' if normalize else 'd'\n",
    "    thresh = cm.max() / 2.\n",
    "    for i in range(cm.shape[0]):\n",
    "        for j in range(cm.shape[1]):\n",
    "            ax.text(j, i, format(cm[i, j], fmt),\n",
    "                    ha=\"center\", va=\"center\",\n",
    "                    color=\"white\" if cm[i, j] > thresh else \"black\")\n",
    "    fig.tight_layout()\n",
    "    return fig, ax"
   ]
  },
  {
   "cell_type": "markdown",
   "metadata": {},
   "source": [
    "## Load Test Set\n",
    "\n",
    "Load the test dataset"
   ]
  },
  {
   "cell_type": "code",
   "execution_count": 6,
   "metadata": {},
   "outputs": [
    {
     "name": "stderr",
     "output_type": "stream",
     "text": [
      "[nltk_data] Downloading package stopwords to\n",
      "[nltk_data]     /home/rmohashi/nltk_data...\n",
      "[nltk_data]   Package stopwords is already up-to-date!\n"
     ]
    }
   ],
   "source": [
    "from nlp.dataset import Dataset"
   ]
  },
  {
   "cell_type": "code",
   "execution_count": 7,
   "metadata": {},
   "outputs": [
    {
     "name": "stdout",
     "output_type": "stream",
     "text": [
      "Time to clean up: 1.80 sec\n"
     ]
    }
   ],
   "source": [
    "dataset = Dataset('../datasets/semeval/testset.csv')\n",
    "dataset.load()\n",
    "dataset.preprocess_texts()\n",
    "data = dataset.cleaned_data.copy()"
   ]
  },
  {
   "cell_type": "code",
   "execution_count": 8,
   "metadata": {},
   "outputs": [],
   "source": [
    "x_test = data.text\n",
    "y_test = data.label"
   ]
  },
  {
   "cell_type": "code",
   "execution_count": 9,
   "metadata": {},
   "outputs": [],
   "source": [
    "import seaborn as sns"
   ]
  },
  {
   "cell_type": "code",
   "execution_count": 10,
   "metadata": {},
   "outputs": [],
   "source": [
    "labeled_data = data.copy()\n",
    "labeled_data.label = data.label.apply(lambda x: \"positivo\" if x == 4 else \"negativo\")"
   ]
  },
  {
   "cell_type": "code",
   "execution_count": 11,
   "metadata": {},
   "outputs": [
    {
     "data": {
      "text/plain": [
       "[Text(0, 0.5, 'Número de tweets'), Text(0.5, 0, 'Rótulo')]"
      ]
     },
     "execution_count": 11,
     "metadata": {},
     "output_type": "execute_result"
    },
    {
     "data": {
      "image/png": "[encoded data removed]",
      "text/plain": [
       "<Figure size 432x288 with 1 Axes>"
      ]
     },
     "metadata": {
      "needs_background": "light"
     },
     "output_type": "display_data"
    }
   ],
   "source": [
    "ax = sns.countplot(x='label', data=data)\n",
    "ax.set_title('Contagem de Tweets')\n",
    "ax.set(xlabel='Rótulo', ylabel='Número de tweets')"
   ]
  },
  {
   "cell_type": "markdown",
   "metadata": {},
   "source": [
    "## Load Model\n",
    "\n",
    "Load the trained naive bayes - sentiment analysis model"
   ]
  },
  {
   "cell_type": "code",
   "execution_count": 12,
   "metadata": {},
   "outputs": [],
   "source": [
    "filepath = Path('../models/emotion_recognition/nb_model.pickle').resolve()\n",
    "with filepath.open('rb') as file:\n",
    "    model = pickle.load(file)"
   ]
  },
  {
   "cell_type": "markdown",
   "metadata": {},
   "source": [
    "## Naive Bayes"
   ]
  },
  {
   "cell_type": "code",
   "execution_count": 13,
   "metadata": {},
   "outputs": [],
   "source": [
    "from sklearn.metrics import classification_report"
   ]
  },
  {
   "cell_type": "code",
   "execution_count": 14,
   "metadata": {},
   "outputs": [
    {
     "name": "stdout",
     "output_type": "stream",
     "text": [
      "              precision    recall  f1-score   support\n",
      "\n",
      "       anger     0.7450    0.5761    0.6498      1892\n",
      "        fear     0.4137    0.5667    0.4782       630\n",
      "         joy     0.8687    0.7574    0.8092      3397\n",
      "     sadness     0.4237    0.6761    0.5209      1059\n",
      "\n",
      "    accuracy                         0.6787      6978\n",
      "   macro avg     0.6128    0.6441    0.6145      6978\n",
      "weighted avg     0.7265    0.6787    0.6924      6978\n",
      "\n"
     ]
    }
   ],
   "source": [
    "results = model.predict(x_test)\n",
    "print(classification_report(y_test, results, digits=4))"
   ]
  },
  {
   "cell_type": "code",
   "execution_count": 15,
   "metadata": {},
   "outputs": [],
   "source": [
    "from sklearn.preprocessing import LabelBinarizer"
   ]
  },
  {
   "cell_type": "code",
   "execution_count": 16,
   "metadata": {},
   "outputs": [
    {
     "data": {
      "text/plain": [
       "LabelBinarizer(neg_label=0, pos_label=1, sparse_output=False)"
      ]
     },
     "execution_count": 16,
     "metadata": {},
     "output_type": "execute_result"
    }
   ],
   "source": [
    "label_binarizer = LabelBinarizer()\n",
    "label_binarizer.fit(y_test)"
   ]
  },
  {
   "cell_type": "code",
   "execution_count": 17,
   "metadata": {},
   "outputs": [
    {
     "name": "stdout",
     "output_type": "stream",
     "text": [
      "Confusion matrix\n",
      "[[0.57610994 0.11363636 0.09672304 0.21353066]\n",
      " [0.09365079 0.56666667 0.15555556 0.18412698]\n",
      " [0.0559317  0.05298793 0.75743303 0.13364734]\n",
      " [0.1170916  0.10481586 0.101983   0.67610954]]\n"
     ]
    },
    {
     "data": {
      "text/plain": [
       "(<Figure size 432x288 with 2 Axes>,\n",
       " <matplotlib.axes._subplots.AxesSubplot at 0x7f7dd377cc90>)"
      ]
     },
     "execution_count": 17,
     "metadata": {},
     "output_type": "execute_result"
    },
    {
     "data": {
      "image/png": "[encoded data removed]",
      "text/plain": [
       "<Figure size 432x288 with 2 Axes>"
      ]
     },
     "metadata": {
      "needs_background": "light"
     },
     "output_type": "display_data"
    }
   ],
   "source": [
    "nb_y_test = label_binarizer.transform(y_test).argmax(axis=1)\n",
    "nb_results = label_binarizer.transform(results).argmax(axis=1)\n",
    "plot_confusion_matrix(nb_y_test, nb_results, label_binarizer.classes_, normalize=True)"
   ]
  },
  {
   "cell_type": "markdown",
   "metadata": {},
   "source": [
    "## Neural Networks"
   ]
  },
  {
   "cell_type": "code",
   "execution_count": 19,
   "metadata": {},
   "outputs": [],
   "source": [
    "import pickle\n",
    "from tensorflow.keras.utils import plot_model\n",
    "from tensorflow.keras.preprocessing.sequence import pad_sequences"
   ]
  },
  {
   "cell_type": "code",
   "execution_count": 20,
   "metadata": {},
   "outputs": [],
   "source": [
    "from emotion_recognition.models.lstm_model import lstm_model\n",
    "from emotion_recognition.models.cnn_model import cnn_model\n",
    "from emotion_recognition.models.lstm_conv_model import lstm_conv_model"
   ]
  },
  {
   "cell_type": "code",
   "execution_count": 21,
   "metadata": {},
   "outputs": [],
   "source": [
    "tokenizer_path = Path('../datasets/emotion_recognition/tokenizer.pickle').resolve()"
   ]
  },
  {
   "cell_type": "code",
   "execution_count": 22,
   "metadata": {},
   "outputs": [],
   "source": [
    "with tokenizer_path.open('rb') as file:\n",
    "    tokenizer = pickle.load(file)"
   ]
  },
  {
   "cell_type": "code",
   "execution_count": 23,
   "metadata": {},
   "outputs": [],
   "source": [
    "sequences = [text.split() for text in data.text]\n",
    "list_tokenized = tokenizer.texts_to_sequences(sequences)"
   ]
  },
  {
   "cell_type": "code",
   "execution_count": 24,
   "metadata": {},
   "outputs": [],
   "source": [
    "encoder_path = Path('/home/rmohashi/hd/tweet-emotion-recognition/models/emotion_recognition/encoder.pickle').resolve()\n",
    "with encoder_path.open('rb') as file:\n",
    "    encoder = pickle.load(file)"
   ]
  },
  {
   "cell_type": "code",
   "execution_count": 25,
   "metadata": {},
   "outputs": [],
   "source": [
    "y_test = encoder.transform(y_test).argmax(axis=1)"
   ]
  },
  {
   "cell_type": "markdown",
   "metadata": {},
   "source": [
    "### 100d - GloVe"
   ]
  },
  {
   "cell_type": "code",
   "execution_count": 26,
   "metadata": {},
   "outputs": [],
   "source": [
    "input_dim = len(tokenizer.word_index) + 1"
   ]
  },
  {
   "cell_type": "code",
   "execution_count": 27,
   "metadata": {},
   "outputs": [],
   "source": [
    "input_length = 30\n",
    "embedding_dim = 100"
   ]
  },
  {
   "cell_type": "markdown",
   "metadata": {},
   "source": [
    "#### LSTM"
   ]
  },
  {
   "cell_type": "code",
   "execution_count": 28,
   "metadata": {},
   "outputs": [],
   "source": [
    "model_weights_path = Path('/home/rmohashi/hd/tweet-emotion-recognition/models/emotion_recognition/checkpoints/LSTM_100_30_GloVe/lstm_100_30_03-0.7161.h5').resolve()"
   ]
  },
  {
   "cell_type": "code",
   "execution_count": 30,
   "metadata": {},
   "outputs": [
    {
     "name": "stdout",
     "output_type": "stream",
     "text": [
      "WARNING:tensorflow:From /home/rmohashi/miniconda3/envs/emodata/lib/python3.7/site-packages/tensorflow/python/keras/initializers.py:119: calling RandomUniform.__init__ (from tensorflow.python.ops.init_ops) with dtype is deprecated and will be removed in a future version.\n",
      "Instructions for updating:\n",
      "Call initializer instance with the dtype argument instead of passing it to the constructor\n",
      "WARNING:tensorflow:From /home/rmohashi/miniconda3/envs/emodata/lib/python3.7/site-packages/tensorflow/python/ops/init_ops.py:1251: calling VarianceScaling.__init__ (from tensorflow.python.ops.init_ops) with dtype is deprecated and will be removed in a future version.\n",
      "Instructions for updating:\n",
      "Call initializer instance with the dtype argument instead of passing it to the constructor\n",
      "WARNING:tensorflow:From /home/rmohashi/miniconda3/envs/emodata/lib/python3.7/site-packages/tensorflow/python/ops/init_ops.py:97: calling GlorotUniform.__init__ (from tensorflow.python.ops.init_ops) with dtype is deprecated and will be removed in a future version.\n",
      "Instructions for updating:\n",
      "Call initializer instance with the dtype argument instead of passing it to the constructor\n",
      "WARNING:tensorflow:From /home/rmohashi/miniconda3/envs/emodata/lib/python3.7/site-packages/tensorflow/python/ops/init_ops.py:97: calling Orthogonal.__init__ (from tensorflow.python.ops.init_ops) with dtype is deprecated and will be removed in a future version.\n",
      "Instructions for updating:\n",
      "Call initializer instance with the dtype argument instead of passing it to the constructor\n",
      "WARNING:tensorflow:From /home/rmohashi/miniconda3/envs/emodata/lib/python3.7/site-packages/tensorflow/python/ops/init_ops.py:97: calling Zeros.__init__ (from tensorflow.python.ops.init_ops) with dtype is deprecated and will be removed in a future version.\n",
      "Instructions for updating:\n",
      "Call initializer instance with the dtype argument instead of passing it to the constructor\n",
      "              precision    recall  f1-score   support\n",
      "\n",
      "           0     0.7430    0.6432    0.6895      1892\n",
      "           1     0.3739    0.7270    0.4938       630\n",
      "           2     0.8663    0.7421    0.7994      3397\n",
      "           3     0.5635    0.6412    0.5998      1059\n",
      "\n",
      "    accuracy                         0.6986      6978\n",
      "   macro avg     0.6367    0.6884    0.6456      6978\n",
      "weighted avg     0.7425    0.6986    0.7117      6978\n",
      "\n"
     ]
    }
   ],
   "source": [
    "model = lstm_model(input_length, input_dim, 4, None, embedding_dim=embedding_dim)\n",
    "model.load_weights(model_weights_path.as_posix())\n",
    "x_test = pad_sequences(list_tokenized, maxlen=input_length)\n",
    "y_pred = model.predict(x_test)\n",
    "y_pred = y_pred.argmax(axis=1)\n",
    "print(classification_report(y_test, y_pred, digits=4))"
   ]
  },
  {
   "cell_type": "code",
   "execution_count": 32,
   "metadata": {},
   "outputs": [
    {
     "name": "stdout",
     "output_type": "stream",
     "text": [
      "Confusion matrix\n",
      "[[0.64323467 0.15063425 0.11786469 0.08826638]\n",
      " [0.08095238 0.72698413 0.11428571 0.07777778]\n",
      " [0.06446865 0.10214895 0.7421254  0.09125699]\n",
      " [0.14258735 0.12747875 0.08876298 0.64117092]]\n"
     ]
    },
    {
     "data": {
      "text/plain": [
       "(<Figure size 432x288 with 2 Axes>,\n",
       " <matplotlib.axes._subplots.AxesSubplot at 0x7f7de5c042d0>)"
      ]
     },
     "execution_count": 32,
     "metadata": {},
     "output_type": "execute_result"
    },
    {
     "data": {
      "image/png": "[encoded data removed]",
      "text/plain": [
       "<Figure size 432x288 with 2 Axes>"
      ]
     },
     "metadata": {
      "needs_background": "light"
     },
     "output_type": "display_data"
    }
   ],
   "source": [
    "plot_confusion_matrix(y_test, y_pred, encoder.classes_, normalize=True)"
   ]
  },
  {
   "cell_type": "markdown",
   "metadata": {},
   "source": [
    "#### CNN"
   ]
  },
  {
   "cell_type": "code",
   "execution_count": 34,
   "metadata": {},
   "outputs": [],
   "source": [
    "model_weights_path = Path('/home/rmohashi/hd/tweet-emotion-recognition/models/emotion_recognition/checkpoints/CNN_100_30_GloVe/cnn_100_30_03-0.7141.h5').resolve()"
   ]
  },
  {
   "cell_type": "code",
   "execution_count": 35,
   "metadata": {},
   "outputs": [
    {
     "name": "stdout",
     "output_type": "stream",
     "text": [
      "              precision    recall  f1-score   support\n",
      "\n",
      "           0     0.7323    0.6681    0.6987      1892\n",
      "           1     0.3909    0.7222    0.5072       630\n",
      "           2     0.8638    0.7468    0.8011      3397\n",
      "           3     0.5830    0.6336    0.6072      1059\n",
      "\n",
      "    accuracy                         0.7061      6978\n",
      "   macro avg     0.6425    0.6927    0.6536      6978\n",
      "weighted avg     0.7428    0.7061    0.7174      6978\n",
      "\n"
     ]
    }
   ],
   "source": [
    "model = cnn_model(input_length, input_dim, 4, None, embedding_dim=embedding_dim)\n",
    "model.load_weights(model_weights_path.as_posix())\n",
    "x_test = pad_sequences(list_tokenized, maxlen=input_length)\n",
    "y_pred = model.predict(x_test)\n",
    "y_pred = y_pred.argmax(axis=1)\n",
    "print(classification_report(y_test, y_pred, digits=4))"
   ]
  },
  {
   "cell_type": "code",
   "execution_count": 37,
   "metadata": {},
   "outputs": [
    {
     "name": "stdout",
     "output_type": "stream",
     "text": [
      "Confusion matrix\n",
      "[[0.66807611 0.12790698 0.12473573 0.07928118]\n",
      " [0.1047619  0.72222222 0.12063492 0.05238095]\n",
      " [0.07006182 0.09567265 0.74683544 0.08743009]\n",
      " [0.14919736 0.13408876 0.08309726 0.63361662]]\n"
     ]
    },
    {
     "data": {
      "text/plain": [
       "(<Figure size 432x288 with 2 Axes>,\n",
       " <matplotlib.axes._subplots.AxesSubplot at 0x7f7dd4974150>)"
      ]
     },
     "execution_count": 37,
     "metadata": {},
     "output_type": "execute_result"
    },
    {
     "data": {
      "image/png": "[encoded data removed]",
      "text/plain": [
       "<Figure size 432x288 with 2 Axes>"
      ]
     },
     "metadata": {
      "needs_background": "light"
     },
     "output_type": "display_data"
    }
   ],
   "source": [
    "plot_confusion_matrix(y_test, y_pred, encoder.classes_, normalize=True)"
   ]
  },
  {
   "cell_type": "markdown",
   "metadata": {},
   "source": [
    "#### LSTM-CNN"
   ]
  },
  {
   "cell_type": "code",
   "execution_count": 38,
   "metadata": {},
   "outputs": [],
   "source": [
    "model_weights_path = Path('/home/rmohashi/hd/tweet-emotion-recognition/models/emotion_recognition/checkpoints/LSTM_Conv_100_30_GloVe/lstm_conv_100_30_03-0.7183.h5'0.6367).resolve()"
   ]
  },
  {
   "cell_type": "code",
   "execution_count": 39,
   "metadata": {},
   "outputs": [
    {
     "name": "stdout",
     "output_type": "stream",
     "text": [
      "              precision    recall  f1-score   support\n",
      "\n",
      "           0     0.7311    0.6897    0.7098      1892\n",
      "           1     0.4270    0.6968    0.5296       630\n",
      "           2     0.8414    0.7919    0.8159      3397\n",
      "           3     0.6374    0.5826    0.6088      1059\n",
      "\n",
      "    accuracy                         0.7238      6978\n",
      "   macro avg     0.6592    0.6903    0.6660      6978\n",
      "weighted avg     0.7431    0.7238    0.7298      6978\n",
      "\n"
     ]
    }
   ],
   "source": [
    "model = lstm_conv_model(input_length, input_dim, 4, None, embedding_dim=embedding_dim)\n",
    "model.load_weights(model_weights_path.as_posix())\n",
    "x_test = pad_sequences(list_tokenized, maxlen=input_length)\n",
    "y_pred = model.predict(x_test)\n",
    "y_pred = y_pred.argmax(axis=1)\n",
    "print(classification_report(y_test, y_pred, digits=4))"
   ]
  },
  {
   "cell_type": "code",
   "execution_count": 40,
   "metadata": {},
   "outputs": [
    {
     "name": "stdout",
     "output_type": "stream",
     "text": [
      "Confusion matrix\n",
      "[[0.6897463  0.10623679 0.16120507 0.04281184]\n",
      " [0.11269841 0.6968254  0.14444444 0.04603175]\n",
      " [0.06387989 0.07329997 0.79187518 0.07094495]\n",
      " [0.18130312 0.1312559  0.10481586 0.58262512]]\n"
     ]
    },
    {
     "data": {
      "text/plain": [
       "(<Figure size 432x288 with 2 Axes>,\n",
       " <matplotlib.axes._subplots.AxesSubplot at 0x7f7ddf1c9e90>)"
      ]
     },
     "execution_count": 40,
     "metadata": {},
     "output_type": "execute_result"
    },
    {
     "data": {
      "image/png": "[encoded data removed]",
      "text/plain": [
       "<Figure size 432x288 with 2 Axes>"
      ]
     },
     "metadata": {
      "needs_background": "light"
     },
     "output_type": "display_data"
    }
   ],
   "source": [
    "plot_confusion_matrix(y_test, y_pred, encoder.classes_, normalize=True)"
   ]
  },
  {
   "cell_type": "markdown",
   "metadata": {},
   "source": [
    "### 50d - no GloVe"
   ]
  },
  {
   "cell_type": "code",
   "execution_count": 41,
   "metadata": {},
   "outputs": [],
   "source": [
    "input_dim = tokenizer.num_words\n",
    "embedding_dim = 50"
   ]
  },
  {
   "cell_type": "markdown",
   "metadata": {},
   "source": [
    "#### LSTM"
   ]
  },
  {
   "cell_type": "code",
   "execution_count": 43,
   "metadata": {},
   "outputs": [],
   "source": [
    "    model_weights_path = Path('/home/rmohashi/hd/tweet-emotion-recognition/models/emotion_recognition/checkpoints/LSTM_50_30/lstm_50_30_02-0.7029.h5').resolve()"
   ]
  },
  {
   "cell_type": "code",
   "execution_count": 44,
   "metadata": {},
   "outputs": [
    {
     "name": "stdout",
     "output_type": "stream",
     "text": [
      "              precision    recall  f1-score   support\n",
      "\n",
      "           0     0.7699    0.5677    0.6535      1892\n",
      "           1     0.4181    0.6603    0.5120       630\n",
      "           2     0.8242    0.7895    0.8065      3397\n",
      "           3     0.5397    0.6799    0.6018      1059\n",
      "\n",
      "    accuracy                         0.7011      6978\n",
      "   macro avg     0.6380    0.6743    0.6434      6978\n",
      "weighted avg     0.7296    0.7011    0.7073      6978\n",
      "\n"
     ]
    }
   ],
   "source": [
    "model = lstm_model(input_length, input_dim, 4, None, embedding_dim=embedding_dim)\n",
    "model.load_weights(model_weights_path.as_posix())\n",
    "x_test = pad_sequences(list_tokenized, maxlen=input_length)\n",
    "y_pred = model.predict(x_test)\n",
    "y_pred = y_pred.argmax(axis=1)\n",
    "print(classification_report(y_test, y_pred, digits=4))"
   ]
  },
  {
   "cell_type": "code",
   "execution_count": 45,
   "metadata": {},
   "outputs": [
    {
     "name": "stdout",
     "output_type": "stream",
     "text": [
      "Confusion matrix\n",
      "[[0.56765328 0.11786469 0.17758985 0.13689218]\n",
      " [0.07619048 0.66031746 0.17619048 0.08730159]\n",
      " [0.05563733 0.06652929 0.78952016 0.08831322]\n",
      " [0.07932011 0.12275732 0.11803588 0.67988669]]\n"
     ]
    },
    {
     "data": {
      "text/plain": [
       "(<Figure size 432x288 with 2 Axes>,\n",
       " <matplotlib.axes._subplots.AxesSubplot at 0x7f7de06f2690>)"
      ]
     },
     "execution_count": 45,
     "metadata": {},
     "output_type": "execute_result"
    },
    {
     "data": {
      "image/png": "[encoded data removed]",
      "text/plain": [
       "<Figure size 432x288 with 2 Axes>"
      ]
     },
     "metadata": {
      "needs_background": "light"
     },
     "output_type": "display_data"
    }
   ],
   "source": [
    "plot_confusion_matrix(y_test, y_pred, encoder.classes_, normalize=True)"
   ]
  },
  {
   "cell_type": "markdown",
   "metadata": {},
   "source": [
    "#### CNN"
   ]
  },
  {
   "cell_type": "code",
   "execution_count": 46,
   "metadata": {},
   "outputs": [],
   "source": [
    "model_weights_path = Path('/home/rmohashi/hd/tweet-emotion-recognition/models/emotion_recognition/checkpoints/CNN_50_30/cnn_50_30_02-0.7050.h5').resolve()"
   ]
  },
  {
   "cell_type": "code",
   "execution_count": 47,
   "metadata": {},
   "outputs": [
    {
     "name": "stdout",
     "output_type": "stream",
     "text": [
      "              precision    recall  f1-score   support\n",
      "\n",
      "           0     0.7462    0.6279    0.6820      1892\n",
      "           1     0.4108    0.6429    0.5012       630\n",
      "           2     0.8405    0.7616    0.7991      3397\n",
      "           3     0.5280    0.6591    0.5863      1059\n",
      "\n",
      "    accuracy                         0.6991      6978\n",
      "   macro avg     0.6314    0.6729    0.6421      6978\n",
      "weighted avg     0.7287    0.6991    0.7081      6978\n",
      "\n"
     ]
    }
   ],
   "source": [
    "model = cnn_model(input_length, input_dim, 4, None, embedding_dim=embedding_dim)\n",
    "model.load_weights(model_weights_path.as_posix())\n",
    "x_test = pad_sequences(list_tokenized, maxlen=input_length)\n",
    "y_pred = model.predict(x_test)\n",
    "y_pred = y_pred.argmax(axis=1)\n",
    "print(classification_report(y_test, y_pred, digits=4))"
   ]
  },
  {
   "cell_type": "code",
   "execution_count": 48,
   "metadata": {},
   "outputs": [
    {
     "name": "stdout",
     "output_type": "stream",
     "text": [
      "Confusion matrix\n",
      "[[0.62790698 0.11680761 0.14323467 0.11205074]\n",
      " [0.08253968 0.64285714 0.15714286 0.11746032]\n",
      " [0.0677068  0.07123933 0.76155431 0.09949956]\n",
      " [0.11520302 0.11142587 0.11425873 0.65911237]]\n"
     ]
    },
    {
     "data": {
      "text/plain": [
       "(<Figure size 432x288 with 2 Axes>,\n",
       " <matplotlib.axes._subplots.AxesSubplot at 0x7f7de0a3b810>)"
      ]
     },
     "execution_count": 48,
     "metadata": {},
     "output_type": "execute_result"
    },
    {
     "data": {
      "image/png": "[encoded data removed]",
      "text/plain": [
       "<Figure size 432x288 with 2 Axes>"
      ]
     },
     "metadata": {
      "needs_background": "light"
     },
     "output_type": "display_data"
    }
   ],
   "source": [
    "plot_confusion_matrix(y_test, y_pred, encoder.classes_, normalize=True)"
   ]
  },
  {
   "cell_type": "markdown",
   "metadata": {},
   "source": [
    "#### LSTM-CNN"
   ]
  },
  {
   "cell_type": "code",
   "execution_count": 49,
   "metadata": {},
   "outputs": [],
   "source": [
    "model_weights_path = Path('/home/rmohashi/hd/tweet-emotion-recognition/models/emotion_recognition/checkpoints/LSTM_Conv_50_30/lstm_conv_50_30_02-0.7086.h5').resolve()"
   ]
  },
  {
   "cell_type": "code",
   "execution_count": 50,
   "metadata": {},
   "outputs": [
    {
     "name": "stdout",
     "output_type": "stream",
     "text": [
      "Finished in: 4.32 secs\n",
      "              precision    recall  f1-score   support\n",
      "\n",
      "           0     0.7739    0.5936    0.6719      1892\n",
      "           1     0.4037    0.6889    0.5091       630\n",
      "           2     0.8299    0.7739    0.8009      3397\n",
      "           3     0.5615    0.6808    0.6155      1059\n",
      "\n",
      "    accuracy                         0.7032      6978\n",
      "   macro avg     0.6423    0.6843    0.6493      6978\n",
      "weighted avg     0.7355    0.7032    0.7114      6978\n",
      "\n"
     ]
    }
   ],
   "source": [
    "start = time()\n",
    "model = lstm_conv_model(input_length, input_dim, 4, None, embedding_dim=embedding_dim)\n",
    "model.load_weights(model_weights_path.as_posix())\n",
    "x_test = pad_sequences(list_tokenized, maxlen=input_length)\n",
    "y_pred = model.predict(x_test)\n",
    "y_pred = y_pred.argmax(axis=1)\n",
    "print('Finished in: {} secs'.format(round((time() - start), 2)))\n",
    "print(classification_report(y_test, y_pred, digits=4))"
   ]
  },
  {
   "cell_type": "code",
   "execution_count": 51,
   "metadata": {},
   "outputs": [
    {
     "name": "stdout",
     "output_type": "stream",
     "text": [
      "Confusion matrix\n",
      "[[0.5935518  0.13319239 0.16226216 0.11099366]\n",
      " [0.05873016 0.68888889 0.17619048 0.07619048]\n",
      " [0.05740359 0.07889314 0.77391816 0.0897851 ]\n",
      " [0.09065156 0.11425873 0.11425873 0.68083097]]\n"
     ]
    },
    {
     "data": {
      "text/plain": [
       "(<Figure size 432x288 with 2 Axes>,\n",
       " <matplotlib.axes._subplots.AxesSubplot at 0x7f7dd61a9e50>)"
      ]
     },
     "execution_count": 51,
     "metadata": {},
     "output_type": "execute_result"
    },
    {
     "data": {
      "image/png": "[encoded data removed]",
      "text/plain": [
       "<Figure size 432x288 with 2 Axes>"
      ]
     },
     "metadata": {
      "needs_background": "light"
     },
     "output_type": "display_data"
    }
   ],
   "source": [
    "plot_confusion_matrix(y_test, y_pred, encoder.classes_, normalize=True)"
   ]
  },
  {
   "cell_type": "markdown",
   "metadata": {},
   "source": [
    "### 100d - no GloVe"
   ]
  },
  {
   "cell_type": "code",
   "execution_count": 52,
   "metadata": {},
   "outputs": [],
   "source": [
    "embedding_dim = 100"
   ]
  },
  {
   "cell_type": "markdown",
   "metadata": {},
   "source": [
    "#### LSTM"
   ]
  },
  {
   "cell_type": "code",
   "execution_count": 55,
   "metadata": {},
   "outputs": [],
   "source": [
    "model_weights_path = Path('/home/rmohashi/hd/tweet-emotion-recognition/models/emotion_recognition/checkpoints/LSTM_100_30/lstm_100_30_02-0.7086.h5').resolve()"
   ]
  },
  {
   "cell_type": "code",
   "execution_count": 56,
   "metadata": {},
   "outputs": [
    {
     "name": "stdout",
     "output_type": "stream",
     "text": [
      "              precision    recall  f1-score   support\n",
      "\n",
      "           0     0.7456    0.6010    0.6655      1892\n",
      "           1     0.3790    0.7111    0.4945       630\n",
      "           2     0.8435    0.7710    0.8056      3397\n",
      "           3     0.5780    0.6364    0.6058      1059\n",
      "\n",
      "    accuracy                         0.6991      6978\n",
      "   macro avg     0.6365    0.6799    0.6429      6978\n",
      "weighted avg     0.7347    0.6991    0.7092      6978\n",
      "\n"
     ]
    }
   ],
   "source": [
    "model = lstm_model(input_length, input_dim, 4, None, embedding_dim=embedding_dim)\n",
    "model.load_weights(model_weights_path.as_posix())\n",
    "x_test = pad_sequences(list_tokenized, maxlen=input_length)\n",
    "y_pred = model.predict(x_test)\n",
    "y_pred = y_pred.argmax(axis=1)\n",
    "print(classification_report(y_test, y_pred, digits=4))"
   ]
  },
  {
   "cell_type": "code",
   "execution_count": 57,
   "metadata": {},
   "outputs": [
    {
     "name": "stdout",
     "output_type": "stream",
     "text": [
      "Confusion matrix\n",
      "[[0.60095137 0.14852008 0.15221987 0.09830867]\n",
      " [0.08571429 0.71111111 0.13650794 0.06666667]\n",
      " [0.06211363 0.08919635 0.77097439 0.07771563]\n",
      " [0.11614731 0.14164306 0.10576015 0.63644948]]\n"
     ]
    },
    {
     "data": {
      "text/plain": [
       "(<Figure size 432x288 with 2 Axes>,\n",
       " <matplotlib.axes._subplots.AxesSubplot at 0x7f7dda6da550>)"
      ]
     },
     "execution_count": 57,
     "metadata": {},
     "output_type": "execute_result"
    },
    {
     "data": {
      "image/png": "[encoded data removed]",
      "text/plain": [
       "<Figure size 432x288 with 2 Axes>"
      ]
     },
     "metadata": {
      "needs_background": "light"
     },
     "output_type": "display_data"
    }
   ],
   "source": [
    "plot_confusion_matrix(y_test, y_pred, encoder.classes_, normalize=True)"
   ]
  },
  {
   "cell_type": "markdown",
   "metadata": {},
   "source": [
    "#### CNN"
   ]
  },
  {
   "cell_type": "code",
   "execution_count": 58,
   "metadata": {},
   "outputs": [],
   "source": [
    "model_weights_path = Path('/home/rmohashi/hd/tweet-emotion-recognition/models/emotion_recognition/checkpoints/CNN_100_30/cnn_100_30_02-0.7069.h5').resolve()"
   ]
  },
  {
   "cell_type": "code",
   "execution_count": 59,
   "metadata": {},
   "outputs": [
    {
     "name": "stdout",
     "output_type": "stream",
     "text": [
      "Finished in: 0.83 secs\n",
      "              precision    recall  f1-score   support\n",
      "\n",
      "           0     0.7692    0.5761    0.6588      1892\n",
      "           1     0.4019    0.7222    0.5165       630\n",
      "           2     0.8295    0.7922    0.8104      3397\n",
      "           3     0.5755    0.6440    0.6078      1059\n",
      "\n",
      "    accuracy                         0.7048      6978\n",
      "   macro avg     0.6441    0.6836    0.6484      6978\n",
      "weighted avg     0.7360    0.7048    0.7120      6978\n",
      "\n"
     ]
    }
   ],
   "source": [
    "start = time()\n",
    "model = cnn_model(input_length, input_dim, 4, None, embedding_dim=embedding_dim)\n",
    "model.load_weights(model_weights_path.as_posix())\n",
    "x_test = pad_sequences(list_tokenized, maxlen=input_length)\n",
    "y_pred = model.predict(x_test)\n",
    "y_pred = y_pred.argmax(axis=1)\n",
    "print('Finished in: {} secs'.format(round((time() - start), 2)))\n",
    "print(classification_report(y_test, y_pred, digits=4))"
   ]
  },
  {
   "cell_type": "code",
   "execution_count": 60,
   "metadata": {},
   "outputs": [
    {
     "name": "stdout",
     "output_type": "stream",
     "text": [
      "Confusion matrix\n",
      "[[0.57610994 0.14904863 0.17864693 0.0961945 ]\n",
      " [0.07142857 0.72222222 0.14444444 0.06190476]\n",
      " [0.05181042 0.07300559 0.79216956 0.08301442]\n",
      " [0.10009443 0.1388102  0.1170916  0.64400378]]\n"
     ]
    },
    {
     "data": {
      "text/plain": [
       "(<Figure size 432x288 with 2 Axes>,\n",
       " <matplotlib.axes._subplots.AxesSubplot at 0x7f7de07595d0>)"
      ]
     },
     "execution_count": 60,
     "metadata": {},
     "output_type": "execute_result"
    },
    {
     "data": {
      "image/png": "[encoded data removed]",
      "text/plain": [
       "<Figure size 432x288 with 2 Axes>"
      ]
     },
     "metadata": {
      "needs_background": "light"
     },
     "output_type": "display_data"
    }
   ],
   "source": [
    "plot_confusion_matrix(y_test, y_pred, encoder.classes_, normalize=True)"
   ]
  },
  {
   "cell_type": "markdown",
   "metadata": {},
   "source": [
    "#### LSTM-CNN"
   ]
  },
  {
   "cell_type": "code",
   "execution_count": 61,
   "metadata": {},
   "outputs": [],
   "source": [
    "model_weights_path = Path('/home/rmohashi/hd/tweet-emotion-recognition/models/emotion_recognition/checkpoints/LSTM_Conv_100_30/lstm_conv_100_30_02-0.7076.h5').resolve()"
   ]
  },
  {
   "cell_type": "code",
   "execution_count": 62,
   "metadata": {},
   "outputs": [
    {
     "name": "stdout",
     "output_type": "stream",
     "text": [
      "Finished in: 4.64 secs\n",
      "              precision    recall  f1-score   support\n",
      "\n",
      "           0     0.7497    0.6189    0.6781      1892\n",
      "           1     0.4107    0.6603    0.5064       630\n",
      "           2     0.8326    0.7830    0.8070      3397\n",
      "           3     0.5770    0.6582    0.6149      1059\n",
      "\n",
      "    accuracy                         0.7085      6978\n",
      "   macro avg     0.6425    0.6801    0.6516      6978\n",
      "weighted avg     0.7332    0.7085    0.7158      6978\n",
      "\n"
     ]
    }
   ],
   "source": [
    "start = time()\n",
    "model = lstm_conv_model(input_length, input_dim, 4, None, embedding_dim=embedding_dim)\n",
    "model.load_weights(model_weights_path.as_posix())\n",
    "x_test = pad_sequences(list_tokenized, maxlen=input_length)\n",
    "y_pred = model.predict(x_test)\n",
    "y_pred = y_pred.argmax(axis=1)\n",
    "print('Finished in: {} secs'.format(round((time() - start), 2)))\n",
    "print(classification_report(y_test, y_pred, digits=4))"
   ]
  },
  {
   "cell_type": "code",
   "execution_count": 64,
   "metadata": {},
   "outputs": [
    {
     "name": "stdout",
     "output_type": "stream",
     "text": [
      "Confusion matrix\n",
      "[[0.61892178 0.11099366 0.17071882 0.09936575]\n",
      " [0.0968254  0.66031746 0.15714286 0.08571429]\n",
      " [0.06093612 0.0768325  0.78304386 0.07918752]\n",
      " [0.11614731 0.11898017 0.10670444 0.65816808]]\n"
     ]
    },
    {
     "data": {
      "text/plain": [
       "(<Figure size 432x288 with 2 Axes>,\n",
       " <matplotlib.axes._subplots.AxesSubplot at 0x7f7ddd160b90>)"
      ]
     },
     "execution_count": 64,
     "metadata": {},
     "output_type": "execute_result"
    },
    {
     "data": {
      "image/png": "[encoded data removed]",
      "text/plain": [
       "<Figure size 432x288 with 2 Axes>"
      ]
     },
     "metadata": {
      "needs_background": "light"
     },
     "output_type": "display_data"
    }
   ],
   "source": [
    "plot_confusion_matrix(y_test, y_pred, encoder.classes_, normalize=True)"
   ]
  },
  {
   "cell_type": "code",
   "execution_count": null,
   "metadata": {},
   "outputs": [],
   "source": []
  }
 ],
 "metadata": {
  "kernelspec": {
   "display_name": "Python 3",
   "language": "python",
   "name": "python3"
  },
  "language_info": {
   "codemirror_mode": {
    "name": "ipython",
    "version": 3
   },
   "file_extension": ".py",
   "mimetype": "text/x-python",
   "name": "python",
   "nbconvert_exporter": "python",
   "pygments_lexer": "ipython3",
   "version": "3.7.4"
  }
 },
 "nbformat": 4,
 "nbformat_minor": 2
}
