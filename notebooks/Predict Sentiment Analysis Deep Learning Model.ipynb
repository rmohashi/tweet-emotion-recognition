{
 "cells": [
  {
   "cell_type": "markdown",
   "metadata": {},
   "source": [
    "## Predict Deep Learning Model\n",
    "\n",
    "Predict the sentiment analysis label, using a deep learning model"
   ]
  },
  {
   "cell_type": "code",
   "execution_count": 1,
   "metadata": {},
   "outputs": [],
   "source": [
    "# Add project path to the PYTHONPATH\n",
    "\n",
    "import os\n",
    "import sys\n",
    "from pathlib import Path\n",
    "\n",
    "sys.path.append(Path(os.path.join(os.path.abspath(''), '../')).resolve().as_posix())"
   ]
  },
  {
   "cell_type": "code",
   "execution_count": 2,
   "metadata": {},
   "outputs": [],
   "source": [
    "import pickle\n",
    "import pandas as pd\n",
    "from pathlib import Path"
   ]
  },
  {
   "cell_type": "code",
   "execution_count": 3,
   "metadata": {},
   "outputs": [],
   "source": [
    "model_weights_path = Path('../models/sentiment_analysis/model_weights.h5').resolve()\n",
    "dataset_dir = Path('../datasets/test').resolve()\n",
    "tokenizer_file = Path('../datasets/sentiment140/tokenizer.pickle').resolve()"
   ]
  },
  {
   "cell_type": "code",
   "execution_count": 4,
   "metadata": {},
   "outputs": [],
   "source": [
    "with tokenizer_file.open('rb') as file:\n",
    "    tokenizer = pickle.load(file)"
   ]
  },
  {
   "cell_type": "code",
   "execution_count": 5,
   "metadata": {},
   "outputs": [],
   "source": [
    "from sentiment_analysis.models.gru_model import gru_model"
   ]
  },
  {
   "cell_type": "code",
   "execution_count": 6,
   "metadata": {},
   "outputs": [
    {
     "name": "stderr",
     "output_type": "stream",
     "text": [
      "WARNING: Logging before flag parsing goes to stderr.\n",
      "W0717 10:00:44.078151 4688356800 deprecation.py:506] From /Users/rmohashi/miniconda3/envs/emodata/lib/python3.6/site-packages/tensorflow/python/keras/initializers.py:119: calling RandomUniform.__init__ (from tensorflow.python.ops.init_ops) with dtype is deprecated and will be removed in a future version.\n",
      "Instructions for updating:\n",
      "Call initializer instance with the dtype argument instead of passing it to the constructor\n",
      "W0717 10:00:44.106781 4688356800 deprecation.py:506] From /Users/rmohashi/miniconda3/envs/emodata/lib/python3.6/site-packages/tensorflow/python/ops/init_ops.py:1251: calling VarianceScaling.__init__ (from tensorflow.python.ops.init_ops) with dtype is deprecated and will be removed in a future version.\n",
      "Instructions for updating:\n",
      "Call initializer instance with the dtype argument instead of passing it to the constructor\n",
      "W0717 10:00:44.113732 4688356800 deprecation.py:506] From /Users/rmohashi/miniconda3/envs/emodata/lib/python3.6/site-packages/tensorflow/python/ops/init_ops.py:97: calling GlorotUniform.__init__ (from tensorflow.python.ops.init_ops) with dtype is deprecated and will be removed in a future version.\n",
      "Instructions for updating:\n",
      "Call initializer instance with the dtype argument instead of passing it to the constructor\n",
      "W0717 10:00:44.115325 4688356800 deprecation.py:506] From /Users/rmohashi/miniconda3/envs/emodata/lib/python3.6/site-packages/tensorflow/python/ops/init_ops.py:97: calling Orthogonal.__init__ (from tensorflow.python.ops.init_ops) with dtype is deprecated and will be removed in a future version.\n",
      "Instructions for updating:\n",
      "Call initializer instance with the dtype argument instead of passing it to the constructor\n",
      "W0717 10:00:44.117409 4688356800 deprecation.py:506] From /Users/rmohashi/miniconda3/envs/emodata/lib/python3.6/site-packages/tensorflow/python/ops/init_ops.py:97: calling Zeros.__init__ (from tensorflow.python.ops.init_ops) with dtype is deprecated and will be removed in a future version.\n",
      "Instructions for updating:\n",
      "Call initializer instance with the dtype argument instead of passing it to the constructor\n"
     ]
    }
   ],
   "source": [
    "input_dim = min(tokenizer.num_words, len(tokenizer.word_index) + 1)\n",
    "model = gru_model(100, input_dim, embedding_dim=200)\n",
    "model.load_weights(model_weights_path.as_posix())"
   ]
  },
  {
   "cell_type": "code",
   "execution_count": 7,
   "metadata": {},
   "outputs": [
    {
     "name": "stderr",
     "output_type": "stream",
     "text": [
      "[nltk_data] Downloading package stopwords to\n",
      "[nltk_data]     /Users/rmohashi/nltk_data...\n",
      "[nltk_data]   Package stopwords is already up-to-date!\n"
     ]
    }
   ],
   "source": [
    "from tensorflow.keras.preprocessing.sequence import pad_sequences\n",
    "from nlp.utils import preprocess\n",
    "from tqdm import tqdm\n",
    "import numpy as np\n",
    "import re\n",
    "import json"
   ]
  },
  {
   "cell_type": "code",
   "execution_count": 8,
   "metadata": {},
   "outputs": [],
   "source": [
    "relations_path = Path('../sentiment_analysis/query_relations.json')\n",
    "with relations_path.open('r') as file:\n",
    "    relations = json.load(file)"
   ]
  },
  {
   "cell_type": "code",
   "execution_count": 9,
   "metadata": {},
   "outputs": [
    {
     "name": "stderr",
     "output_type": "stream",
     "text": [
      "100%|██████████| 8/8 [00:05<00:00,  1.57it/s]\n"
     ]
    }
   ],
   "source": [
    "data_dict = {}\n",
    "\n",
    "query_dict = {\n",
    "    'query': [],\n",
    "    'mean': [],\n",
    "    'max': [],\n",
    "    'min': [],\n",
    "    'std': [],\n",
    "    'count': [],\n",
    "    'emotion': []\n",
    "}\n",
    "\n",
    "dir_files = os.listdir(dataset_dir)\n",
    "\n",
    "with tqdm(total=len(dir_files)) as t:\n",
    "    for filename in dir_files:\n",
    "        dataset = pd.read_csv(os.path.join(dataset_dir, filename))\n",
    "        cleaned_texts = preprocess(dataset.text, quiet=True)\n",
    "\n",
    "        query = re.findall(r'(#[^.]+|:.+:)', filename)[0]\n",
    "\n",
    "        predict_sequences = [text.split() for text in cleaned_texts]\n",
    "        list_tokenized_predict = tokenizer.texts_to_sequences(predict_sequences)\n",
    "        x_predict = pad_sequences(list_tokenized_predict, maxlen=100)\n",
    "\n",
    "        result = model.predict(x_predict)\n",
    "        \n",
    "        emotion = relations[query]\n",
    "        query_dict['query'].append(query)\n",
    "        query_dict['mean'].append(np.mean(result))\n",
    "        query_dict['max'].append(np.amax(result))\n",
    "        query_dict['min'].append(np.amin(result))\n",
    "        query_dict['count'].append(len(dataset))\n",
    "        query_dict['std'].append(np.std(result))\n",
    "        query_dict['emotion'].append(emotion)\n",
    "\n",
    "        if emotion in data_dict:\n",
    "            data_dict[emotion] = np.concatenate([data_dict[emotion], result])\n",
    "        else:\n",
    "            data_dict[emotion] = result\n",
    "        \n",
    "        t.update()"
   ]
  },
  {
   "cell_type": "code",
   "execution_count": 10,
   "metadata": {
    "scrolled": false
   },
   "outputs": [
    {
     "data": {
      "text/html": [
       "<div>\n",
       "<style scoped>\n",
       "    .dataframe tbody tr th:only-of-type {\n",
       "        vertical-align: middle;\n",
       "    }\n",
       "\n",
       "    .dataframe tbody tr th {\n",
       "        vertical-align: top;\n",
       "    }\n",
       "\n",
       "    .dataframe thead th {\n",
       "        text-align: right;\n",
       "    }\n",
       "</style>\n",
       "<table border=\"1\" class=\"dataframe\">\n",
       "  <thead>\n",
       "    <tr style=\"text-align: right;\">\n",
       "      <th></th>\n",
       "      <th>query</th>\n",
       "      <th>mean</th>\n",
       "      <th>max</th>\n",
       "      <th>min</th>\n",
       "      <th>std</th>\n",
       "      <th>count</th>\n",
       "      <th>emotion</th>\n",
       "    </tr>\n",
       "  </thead>\n",
       "  <tbody>\n",
       "    <tr>\n",
       "      <th>0</th>\n",
       "      <td>:anxious_face_with_sweat:</td>\n",
       "      <td>0.428562</td>\n",
       "      <td>0.983642</td>\n",
       "      <td>0.004371</td>\n",
       "      <td>0.274272</td>\n",
       "      <td>199</td>\n",
       "      <td>fear</td>\n",
       "    </tr>\n",
       "    <tr>\n",
       "      <th>6</th>\n",
       "      <td>#worried</td>\n",
       "      <td>0.205504</td>\n",
       "      <td>0.879476</td>\n",
       "      <td>0.004883</td>\n",
       "      <td>0.210547</td>\n",
       "      <td>196</td>\n",
       "      <td>fear</td>\n",
       "    </tr>\n",
       "  </tbody>\n",
       "</table>\n",
       "</div>"
      ],
      "text/plain": [
       "                       query      mean       max       min       std  count  \\\n",
       "0  :anxious_face_with_sweat:  0.428562  0.983642  0.004371  0.274272    199   \n",
       "6                   #worried  0.205504  0.879476  0.004883  0.210547    196   \n",
       "\n",
       "  emotion  \n",
       "0    fear  \n",
       "6    fear  "
      ]
     },
     "metadata": {},
     "output_type": "display_data"
    },
    {
     "data": {
      "text/html": [
       "<div>\n",
       "<style scoped>\n",
       "    .dataframe tbody tr th:only-of-type {\n",
       "        vertical-align: middle;\n",
       "    }\n",
       "\n",
       "    .dataframe tbody tr th {\n",
       "        vertical-align: top;\n",
       "    }\n",
       "\n",
       "    .dataframe thead th {\n",
       "        text-align: right;\n",
       "    }\n",
       "</style>\n",
       "<table border=\"1\" class=\"dataframe\">\n",
       "  <thead>\n",
       "    <tr style=\"text-align: right;\">\n",
       "      <th></th>\n",
       "      <th>query</th>\n",
       "      <th>mean</th>\n",
       "      <th>max</th>\n",
       "      <th>min</th>\n",
       "      <th>std</th>\n",
       "      <th>count</th>\n",
       "      <th>emotion</th>\n",
       "    </tr>\n",
       "  </thead>\n",
       "  <tbody>\n",
       "    <tr>\n",
       "      <th>1</th>\n",
       "      <td>#sad</td>\n",
       "      <td>0.073413</td>\n",
       "      <td>0.873629</td>\n",
       "      <td>0.002289</td>\n",
       "      <td>0.127914</td>\n",
       "      <td>200</td>\n",
       "      <td>sadness</td>\n",
       "    </tr>\n",
       "    <tr>\n",
       "      <th>2</th>\n",
       "      <td>:crying_face:</td>\n",
       "      <td>0.438269</td>\n",
       "      <td>0.996975</td>\n",
       "      <td>0.005851</td>\n",
       "      <td>0.296389</td>\n",
       "      <td>197</td>\n",
       "      <td>sadness</td>\n",
       "    </tr>\n",
       "  </tbody>\n",
       "</table>\n",
       "</div>"
      ],
      "text/plain": [
       "           query      mean       max       min       std  count  emotion\n",
       "1           #sad  0.073413  0.873629  0.002289  0.127914    200  sadness\n",
       "2  :crying_face:  0.438269  0.996975  0.005851  0.296389    197  sadness"
      ]
     },
     "metadata": {},
     "output_type": "display_data"
    },
    {
     "data": {
      "text/html": [
       "<div>\n",
       "<style scoped>\n",
       "    .dataframe tbody tr th:only-of-type {\n",
       "        vertical-align: middle;\n",
       "    }\n",
       "\n",
       "    .dataframe tbody tr th {\n",
       "        vertical-align: top;\n",
       "    }\n",
       "\n",
       "    .dataframe thead th {\n",
       "        text-align: right;\n",
       "    }\n",
       "</style>\n",
       "<table border=\"1\" class=\"dataframe\">\n",
       "  <thead>\n",
       "    <tr style=\"text-align: right;\">\n",
       "      <th></th>\n",
       "      <th>query</th>\n",
       "      <th>mean</th>\n",
       "      <th>max</th>\n",
       "      <th>min</th>\n",
       "      <th>std</th>\n",
       "      <th>count</th>\n",
       "      <th>emotion</th>\n",
       "    </tr>\n",
       "  </thead>\n",
       "  <tbody>\n",
       "    <tr>\n",
       "      <th>3</th>\n",
       "      <td>:red_heart:</td>\n",
       "      <td>0.770384</td>\n",
       "      <td>0.996633</td>\n",
       "      <td>0.042774</td>\n",
       "      <td>0.225747</td>\n",
       "      <td>200</td>\n",
       "      <td>joy</td>\n",
       "    </tr>\n",
       "    <tr>\n",
       "      <th>7</th>\n",
       "      <td>#joy</td>\n",
       "      <td>0.832007</td>\n",
       "      <td>0.997057</td>\n",
       "      <td>0.208914</td>\n",
       "      <td>0.152068</td>\n",
       "      <td>191</td>\n",
       "      <td>joy</td>\n",
       "    </tr>\n",
       "  </tbody>\n",
       "</table>\n",
       "</div>"
      ],
      "text/plain": [
       "         query      mean       max       min       std  count emotion\n",
       "3  :red_heart:  0.770384  0.996633  0.042774  0.225747    200     joy\n",
       "7         #joy  0.832007  0.997057  0.208914  0.152068    191     joy"
      ]
     },
     "metadata": {},
     "output_type": "display_data"
    },
    {
     "data": {
      "text/html": [
       "<div>\n",
       "<style scoped>\n",
       "    .dataframe tbody tr th:only-of-type {\n",
       "        vertical-align: middle;\n",
       "    }\n",
       "\n",
       "    .dataframe tbody tr th {\n",
       "        vertical-align: top;\n",
       "    }\n",
       "\n",
       "    .dataframe thead th {\n",
       "        text-align: right;\n",
       "    }\n",
       "</style>\n",
       "<table border=\"1\" class=\"dataframe\">\n",
       "  <thead>\n",
       "    <tr style=\"text-align: right;\">\n",
       "      <th></th>\n",
       "      <th>query</th>\n",
       "      <th>mean</th>\n",
       "      <th>max</th>\n",
       "      <th>min</th>\n",
       "      <th>std</th>\n",
       "      <th>count</th>\n",
       "      <th>emotion</th>\n",
       "    </tr>\n",
       "  </thead>\n",
       "  <tbody>\n",
       "    <tr>\n",
       "      <th>4</th>\n",
       "      <td>:face_with_symbols_on_mouth:</td>\n",
       "      <td>0.403210</td>\n",
       "      <td>0.997371</td>\n",
       "      <td>0.010545</td>\n",
       "      <td>0.261377</td>\n",
       "      <td>194</td>\n",
       "      <td>angry</td>\n",
       "    </tr>\n",
       "    <tr>\n",
       "      <th>5</th>\n",
       "      <td>#pissed</td>\n",
       "      <td>0.230712</td>\n",
       "      <td>0.912333</td>\n",
       "      <td>0.008014</td>\n",
       "      <td>0.180684</td>\n",
       "      <td>200</td>\n",
       "      <td>angry</td>\n",
       "    </tr>\n",
       "  </tbody>\n",
       "</table>\n",
       "</div>"
      ],
      "text/plain": [
       "                          query      mean       max       min       std  \\\n",
       "4  :face_with_symbols_on_mouth:  0.403210  0.997371  0.010545  0.261377   \n",
       "5                       #pissed  0.230712  0.912333  0.008014  0.180684   \n",
       "\n",
       "   count emotion  \n",
       "4    194   angry  \n",
       "5    200   angry  "
      ]
     },
     "metadata": {},
     "output_type": "display_data"
    }
   ],
   "source": [
    "df = pd.DataFrame(data=query_dict)\n",
    "for emotion in df.emotion.unique():\n",
    "    display(df[df.emotion == emotion])"
   ]
  },
  {
   "cell_type": "code",
   "execution_count": 11,
   "metadata": {},
   "outputs": [
    {
     "data": {
      "text/html": [
       "<div>\n",
       "<style scoped>\n",
       "    .dataframe tbody tr th:only-of-type {\n",
       "        vertical-align: middle;\n",
       "    }\n",
       "\n",
       "    .dataframe tbody tr th {\n",
       "        vertical-align: top;\n",
       "    }\n",
       "\n",
       "    .dataframe thead th {\n",
       "        text-align: right;\n",
       "    }\n",
       "</style>\n",
       "<table border=\"1\" class=\"dataframe\">\n",
       "  <thead>\n",
       "    <tr style=\"text-align: right;\">\n",
       "      <th></th>\n",
       "      <th>emotion</th>\n",
       "      <th>mean</th>\n",
       "      <th>max</th>\n",
       "      <th>min</th>\n",
       "      <th>std</th>\n",
       "      <th>count</th>\n",
       "    </tr>\n",
       "  </thead>\n",
       "  <tbody>\n",
       "    <tr>\n",
       "      <th>0</th>\n",
       "      <td>fear</td>\n",
       "      <td>0.317880</td>\n",
       "      <td>0.983642</td>\n",
       "      <td>0.004371</td>\n",
       "      <td>0.268948</td>\n",
       "      <td>395</td>\n",
       "    </tr>\n",
       "    <tr>\n",
       "      <th>1</th>\n",
       "      <td>sadness</td>\n",
       "      <td>0.254463</td>\n",
       "      <td>0.996975</td>\n",
       "      <td>0.002289</td>\n",
       "      <td>0.291740</td>\n",
       "      <td>397</td>\n",
       "    </tr>\n",
       "    <tr>\n",
       "      <th>2</th>\n",
       "      <td>joy</td>\n",
       "      <td>0.800486</td>\n",
       "      <td>0.997057</td>\n",
       "      <td>0.042774</td>\n",
       "      <td>0.195736</td>\n",
       "      <td>391</td>\n",
       "    </tr>\n",
       "    <tr>\n",
       "      <th>3</th>\n",
       "      <td>angry</td>\n",
       "      <td>0.315648</td>\n",
       "      <td>0.997371</td>\n",
       "      <td>0.008014</td>\n",
       "      <td>0.240100</td>\n",
       "      <td>394</td>\n",
       "    </tr>\n",
       "  </tbody>\n",
       "</table>\n",
       "</div>"
      ],
      "text/plain": [
       "   emotion      mean       max       min       std  count\n",
       "0     fear  0.317880  0.983642  0.004371  0.268948    395\n",
       "1  sadness  0.254463  0.996975  0.002289  0.291740    397\n",
       "2      joy  0.800486  0.997057  0.042774  0.195736    391\n",
       "3    angry  0.315648  0.997371  0.008014  0.240100    394"
      ]
     },
     "metadata": {},
     "output_type": "display_data"
    }
   ],
   "source": [
    "emotion_dict = {\n",
    "    'emotion': [],\n",
    "    'mean': [],\n",
    "    'max': [],\n",
    "    'min': [],\n",
    "    'std': [],\n",
    "    'count': []\n",
    "}\n",
    "\n",
    "for emotion, result in data_dict.items():\n",
    "    emotion_dict['emotion'].append(emotion)\n",
    "    emotion_dict['mean'].append(np.mean(result))\n",
    "    emotion_dict['max'].append(np.amax(result))\n",
    "    emotion_dict['min'].append(np.amin(result))\n",
    "    emotion_dict['std'].append(np.std(result))\n",
    "    emotion_dict['count'].append(len(result))\n",
    "    \n",
    "emotion_df = pd.DataFrame(data=emotion_dict)\n",
    "display(emotion_df)"
   ]
  },
  {
   "cell_type": "code",
   "execution_count": null,
   "metadata": {},
   "outputs": [],
   "source": []
  }
 ],
 "metadata": {
  "kernelspec": {
   "display_name": "Python 3",
   "language": "python",
   "name": "python3"
  },
  "language_info": {
   "codemirror_mode": {
    "name": "ipython",
    "version": 3
   },
   "file_extension": ".py",
   "mimetype": "text/x-python",
   "name": "python",
   "nbconvert_exporter": "python",
   "pygments_lexer": "ipython3",
   "version": "3.6.8"
  }
 },
 "nbformat": 4,
 "nbformat_minor": 2
}
