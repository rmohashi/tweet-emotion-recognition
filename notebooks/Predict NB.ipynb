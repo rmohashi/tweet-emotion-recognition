{
 "cells": [
  {
   "cell_type": "markdown",
   "metadata": {},
   "source": [
    "# Predict NB\n",
    "\n",
    "This notebook shows how we use sentiment analysis to validade our emotion labeled data."
   ]
  },
  {
   "cell_type": "code",
   "execution_count": 1,
   "metadata": {},
   "outputs": [],
   "source": [
    "# Add project path to the PYTHONPATH\n",
    "\n",
    "import os\n",
    "import sys\n",
    "from pathlib import Path\n",
    "\n",
    "sys.path.append(Path(os.path.join(os.path.abspath(''), '../')).resolve().as_posix())"
   ]
  },
  {
   "cell_type": "code",
   "execution_count": 2,
   "metadata": {},
   "outputs": [],
   "source": [
    "import os\n",
    "import pickle\n",
    "from pathlib import Path\n",
    "import pandas as pd"
   ]
  },
  {
   "cell_type": "markdown",
   "metadata": {},
   "source": [
    "**NOTE**: Remember to run the `train_nb` script to create a naive bayes model file."
   ]
  },
  {
   "cell_type": "code",
   "execution_count": 3,
   "metadata": {},
   "outputs": [],
   "source": [
    "data_file = '../datasets/emotion_from_query/1146420498366156800-1146420408595468288_:face_with_tears_of_joy:.csv'\n",
    "model_file = '../models/nb_model.pickle'"
   ]
  },
  {
   "cell_type": "code",
   "execution_count": 4,
   "metadata": {},
   "outputs": [],
   "source": [
    "from sentiment_analysis.predict_nb import predict_nb"
   ]
  },
  {
   "cell_type": "code",
   "execution_count": 5,
   "metadata": {},
   "outputs": [
    {
     "name": "stdout",
     "output_type": "stream",
     "text": [
      "Time to clean up: 0.02\n"
     ]
    }
   ],
   "source": [
    "result = predict_nb(data_file, model_file, positive=True)"
   ]
  },
  {
   "cell_type": "code",
   "execution_count": 8,
   "metadata": {},
   "outputs": [
    {
     "data": {
      "text/html": [
       "<div>\n",
       "<style scoped>\n",
       "    .dataframe tbody tr th:only-of-type {\n",
       "        vertical-align: middle;\n",
       "    }\n",
       "\n",
       "    .dataframe tbody tr th {\n",
       "        vertical-align: top;\n",
       "    }\n",
       "\n",
       "    .dataframe thead th {\n",
       "        text-align: right;\n",
       "    }\n",
       "</style>\n",
       "<table border=\"1\" class=\"dataframe\">\n",
       "  <thead>\n",
       "    <tr style=\"text-align: right;\">\n",
       "      <th></th>\n",
       "      <th>id</th>\n",
       "      <th>date</th>\n",
       "      <th>user</th>\n",
       "      <th>text</th>\n",
       "    </tr>\n",
       "  </thead>\n",
       "  <tbody>\n",
       "    <tr>\n",
       "      <th>1</th>\n",
       "      <td>1146420464090329088</td>\n",
       "      <td>2019-07-03 14:08:32</td>\n",
       "      <td>Mila_Landani</td>\n",
       "      <td>Yhuuuuu ha.a😂😂😂😂😂😂 https://t.co/zffGPl9oEg</td>\n",
       "    </tr>\n",
       "    <tr>\n",
       "      <th>2</th>\n",
       "      <td>1146420463473766400</td>\n",
       "      <td>2019-07-03 14:08:32</td>\n",
       "      <td>ReAd13899</td>\n",
       "      <td>LOTS OF MISTAKES😂🙈</td>\n",
       "    </tr>\n",
       "    <tr>\n",
       "      <th>3</th>\n",
       "      <td>1146420463415046145</td>\n",
       "      <td>2019-07-03 14:08:32</td>\n",
       "      <td>Sir_waless</td>\n",
       "      <td>@Jybbsjibola 😑..d truth can't be overlooked 😂</td>\n",
       "    </tr>\n",
       "    <tr>\n",
       "      <th>6</th>\n",
       "      <td>1146420461992984576</td>\n",
       "      <td>2019-07-03 14:08:32</td>\n",
       "      <td>myouirharon</td>\n",
       "      <td>@zhungsooj And it's already evening, unnie. Wh...</td>\n",
       "    </tr>\n",
       "    <tr>\n",
       "      <th>9</th>\n",
       "      <td>1146420461594714114</td>\n",
       "      <td>2019-07-03 14:08:32</td>\n",
       "      <td>BreatheMia</td>\n",
       "      <td>@Noah_theNarwhal @Amgen I hear that! I had to ...</td>\n",
       "    </tr>\n",
       "  </tbody>\n",
       "</table>\n",
       "</div>"
      ],
      "text/plain": [
       "                    id                 date          user  \\\n",
       "1  1146420464090329088  2019-07-03 14:08:32  Mila_Landani   \n",
       "2  1146420463473766400  2019-07-03 14:08:32     ReAd13899   \n",
       "3  1146420463415046145  2019-07-03 14:08:32    Sir_waless   \n",
       "6  1146420461992984576  2019-07-03 14:08:32   myouirharon   \n",
       "9  1146420461594714114  2019-07-03 14:08:32    BreatheMia   \n",
       "\n",
       "                                                text  \n",
       "1         Yhuuuuu ha.a😂😂😂😂😂😂 https://t.co/zffGPl9oEg  \n",
       "2                                 LOTS OF MISTAKES😂🙈  \n",
       "3      @Jybbsjibola 😑..d truth can't be overlooked 😂  \n",
       "6  @zhungsooj And it's already evening, unnie. Wh...  \n",
       "9  @Noah_theNarwhal @Amgen I hear that! I had to ...  "
      ]
     },
     "execution_count": 8,
     "metadata": {},
     "output_type": "execute_result"
    }
   ],
   "source": [
    "result.head()"
   ]
  },
  {
   "cell_type": "code",
   "execution_count": 10,
   "metadata": {},
   "outputs": [
    {
     "data": {
      "text/plain": [
       "'Lmaooo so annoying because? Hege irin kai ma Dan Woke twitter dinnan 😂 https://t.co/hQ6UD03Lwn'"
      ]
     },
     "execution_count": 10,
     "metadata": {},
     "output_type": "execute_result"
    }
   ],
   "source": [
    "# Example of a text from the result data\n",
    "\n",
    "result.iloc[10].text"
   ]
  },
  {
   "cell_type": "code",
   "execution_count": null,
   "metadata": {},
   "outputs": [],
   "source": []
  }
 ],
 "metadata": {
  "kernelspec": {
   "display_name": "Python 3",
   "language": "python",
   "name": "python3"
  },
  "language_info": {
   "codemirror_mode": {
    "name": "ipython",
    "version": 3
   },
   "file_extension": ".py",
   "mimetype": "text/x-python",
   "name": "python",
   "nbconvert_exporter": "python",
   "pygments_lexer": "ipython3",
   "version": "3.6.8"
  }
 },
 "nbformat": 4,
 "nbformat_minor": 2
}
