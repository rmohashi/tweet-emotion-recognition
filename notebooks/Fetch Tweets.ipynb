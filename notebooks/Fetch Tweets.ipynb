{
 "cells": [
  {
   "cell_type": "markdown",
   "metadata": {},
   "source": [
    "# Fetch Tweets\n",
    "\n",
    "The main objective of this notebook is to show how we get the data from Twitter."
   ]
  },
  {
   "cell_type": "code",
   "execution_count": 1,
   "metadata": {},
   "outputs": [],
   "source": [
    "# Add project path to the PYTHONPATH\n",
    "\n",
    "import os\n",
    "import sys\n",
    "from pathlib import Path\n",
    "\n",
    "sys.path.append(Path(os.path.join(os.path.abspath(''), '../')).resolve().as_posix())"
   ]
  },
  {
   "cell_type": "code",
   "execution_count": 2,
   "metadata": {},
   "outputs": [],
   "source": [
    "from data_fetch.get_tweets import get_tweets"
   ]
  },
  {
   "cell_type": "markdown",
   "metadata": {},
   "source": [
    "## Hashtags\n",
    "\n",
    "We can use the hashtags to extract an emotion from the tweet"
   ]
  },
  {
   "cell_type": "code",
   "execution_count": 3,
   "metadata": {
    "scrolled": true
   },
   "outputs": [
    {
     "name": "stdout",
     "output_type": "stream",
     "text": [
      "Successfully connected to the Twitter API.\n",
      "74 #happy tweets\n"
     ]
    }
   ],
   "source": [
    "data = get_tweets('#happy', max_requests=1)"
   ]
  },
  {
   "cell_type": "code",
   "execution_count": 4,
   "metadata": {
    "scrolled": false
   },
   "outputs": [
    {
     "data": {
      "text/html": [
       "<div>\n",
       "<style scoped>\n",
       "    .dataframe tbody tr th:only-of-type {\n",
       "        vertical-align: middle;\n",
       "    }\n",
       "\n",
       "    .dataframe tbody tr th {\n",
       "        vertical-align: top;\n",
       "    }\n",
       "\n",
       "    .dataframe thead th {\n",
       "        text-align: right;\n",
       "    }\n",
       "</style>\n",
       "<table border=\"1\" class=\"dataframe\">\n",
       "  <thead>\n",
       "    <tr style=\"text-align: right;\">\n",
       "      <th></th>\n",
       "      <th>id</th>\n",
       "      <th>date</th>\n",
       "      <th>user</th>\n",
       "      <th>text</th>\n",
       "    </tr>\n",
       "  </thead>\n",
       "  <tbody>\n",
       "    <tr>\n",
       "      <th>0</th>\n",
       "      <td>1146054859197562881</td>\n",
       "      <td>2019-07-02 13:55:45</td>\n",
       "      <td>ivy_overseas</td>\n",
       "      <td>#happy #students for we helped them in achievi...</td>\n",
       "    </tr>\n",
       "    <tr>\n",
       "      <th>1</th>\n",
       "      <td>1146054753379586048</td>\n",
       "      <td>2019-07-02 13:55:20</td>\n",
       "      <td>JDayHalo2Litt</td>\n",
       "      <td>#whatyouwant ?.....Just Kill YourSelf #happy #...</td>\n",
       "    </tr>\n",
       "    <tr>\n",
       "      <th>2</th>\n",
       "      <td>1146054701689032704</td>\n",
       "      <td>2019-07-02 13:55:08</td>\n",
       "      <td>limetreefs</td>\n",
       "      <td>When a #client is so #happy with your #mortgag...</td>\n",
       "    </tr>\n",
       "    <tr>\n",
       "      <th>3</th>\n",
       "      <td>1146054673482358784</td>\n",
       "      <td>2019-07-02 13:55:01</td>\n",
       "      <td>SunningdaleHome</td>\n",
       "      <td>Congratulations to Mr and Mrs Ball to completi...</td>\n",
       "    </tr>\n",
       "    <tr>\n",
       "      <th>4</th>\n",
       "      <td>1146054210405879809</td>\n",
       "      <td>2019-07-02 13:53:11</td>\n",
       "      <td>chloesfuntimes</td>\n",
       "      <td>Sorry I missed it guys I’ll give the lucky guy...</td>\n",
       "    </tr>\n",
       "  </tbody>\n",
       "</table>\n",
       "</div>"
      ],
      "text/plain": [
       "                    id                date             user  \\\n",
       "0  1146054859197562881 2019-07-02 13:55:45     ivy_overseas   \n",
       "1  1146054753379586048 2019-07-02 13:55:20    JDayHalo2Litt   \n",
       "2  1146054701689032704 2019-07-02 13:55:08       limetreefs   \n",
       "3  1146054673482358784 2019-07-02 13:55:01  SunningdaleHome   \n",
       "4  1146054210405879809 2019-07-02 13:53:11   chloesfuntimes   \n",
       "\n",
       "                                                text  \n",
       "0  #happy #students for we helped them in achievi...  \n",
       "1  #whatyouwant ?.....Just Kill YourSelf #happy #...  \n",
       "2  When a #client is so #happy with your #mortgag...  \n",
       "3  Congratulations to Mr and Mrs Ball to completi...  \n",
       "4  Sorry I missed it guys I’ll give the lucky guy...  "
      ]
     },
     "execution_count": 4,
     "metadata": {},
     "output_type": "execute_result"
    }
   ],
   "source": [
    "data.head()"
   ]
  },
  {
   "cell_type": "code",
   "execution_count": 10,
   "metadata": {},
   "outputs": [
    {
     "data": {
      "text/plain": [
       "'#Happy Tuesday.  ☕️❤️☕️ \\nThere day holiday here.  🎉 https://t.co/kw4dHF911Q'"
      ]
     },
     "execution_count": 10,
     "metadata": {},
     "output_type": "execute_result"
    }
   ],
   "source": [
    "# Example of a tweet containing \"#happy\"\n",
    "\n",
    "data.iloc[6].text"
   ]
  },
  {
   "cell_type": "markdown",
   "metadata": {},
   "source": [
    "## Emoji\n",
    "\n",
    "Also, it's possible to search for emojis"
   ]
  },
  {
   "cell_type": "code",
   "execution_count": 19,
   "metadata": {},
   "outputs": [
    {
     "name": "stdout",
     "output_type": "stream",
     "text": [
      "Successfully connected to the Twitter API.\n",
      "98 😡 tweets\n"
     ]
    }
   ],
   "source": [
    "data = get_tweets('😡', max_requests=1)"
   ]
  },
  {
   "cell_type": "code",
   "execution_count": 20,
   "metadata": {
    "scrolled": true
   },
   "outputs": [
    {
     "data": {
      "text/html": [
       "<div>\n",
       "<style scoped>\n",
       "    .dataframe tbody tr th:only-of-type {\n",
       "        vertical-align: middle;\n",
       "    }\n",
       "\n",
       "    .dataframe tbody tr th {\n",
       "        vertical-align: top;\n",
       "    }\n",
       "\n",
       "    .dataframe thead th {\n",
       "        text-align: right;\n",
       "    }\n",
       "</style>\n",
       "<table border=\"1\" class=\"dataframe\">\n",
       "  <thead>\n",
       "    <tr style=\"text-align: right;\">\n",
       "      <th></th>\n",
       "      <th>id</th>\n",
       "      <th>date</th>\n",
       "      <th>user</th>\n",
       "      <th>text</th>\n",
       "    </tr>\n",
       "  </thead>\n",
       "  <tbody>\n",
       "    <tr>\n",
       "      <th>0</th>\n",
       "      <td>1146056649653673985</td>\n",
       "      <td>2019-07-02 14:02:52</td>\n",
       "      <td>noretaiI</td>\n",
       "      <td>@aiomonitors nah I‘m with friends every day😡</td>\n",
       "    </tr>\n",
       "    <tr>\n",
       "      <th>1</th>\n",
       "      <td>1146056644784054272</td>\n",
       "      <td>2019-07-02 14:02:51</td>\n",
       "      <td>etugman</td>\n",
       "      <td>Utterly disgusting!! 😡 https://t.co/4lm1j0LOnH</td>\n",
       "    </tr>\n",
       "    <tr>\n",
       "      <th>2</th>\n",
       "      <td>1146056635963437056</td>\n",
       "      <td>2019-07-02 14:02:49</td>\n",
       "      <td>ilonewol4</td>\n",
       "      <td>MC BC😡😡 This is the culture we are proud of. h...</td>\n",
       "    </tr>\n",
       "    <tr>\n",
       "      <th>3</th>\n",
       "      <td>1146056633044180993</td>\n",
       "      <td>2019-07-02 14:02:48</td>\n",
       "      <td>RosieeeeeeeRBLX</td>\n",
       "      <td>THE TURNED THEIR BACKS!!!!!! 😡😡😡😡😡😡😡😡😡😡😡😡😡😡😡😡😡😡😡😡</td>\n",
       "    </tr>\n",
       "    <tr>\n",
       "      <th>4</th>\n",
       "      <td>1146056632583032832</td>\n",
       "      <td>2019-07-02 14:02:48</td>\n",
       "      <td>7675376666rhon</td>\n",
       "      <td>@Kris_Sacrebleu Complete 🐂💩😡😡😡</td>\n",
       "    </tr>\n",
       "  </tbody>\n",
       "</table>\n",
       "</div>"
      ],
      "text/plain": [
       "                    id                date             user  \\\n",
       "0  1146056649653673985 2019-07-02 14:02:52         noretaiI   \n",
       "1  1146056644784054272 2019-07-02 14:02:51          etugman   \n",
       "2  1146056635963437056 2019-07-02 14:02:49        ilonewol4   \n",
       "3  1146056633044180993 2019-07-02 14:02:48  RosieeeeeeeRBLX   \n",
       "4  1146056632583032832 2019-07-02 14:02:48   7675376666rhon   \n",
       "\n",
       "                                                text  \n",
       "0       @aiomonitors nah I‘m with friends every day😡  \n",
       "1     Utterly disgusting!! 😡 https://t.co/4lm1j0LOnH  \n",
       "2  MC BC😡😡 This is the culture we are proud of. h...  \n",
       "3  THE TURNED THEIR BACKS!!!!!! 😡😡😡😡😡😡😡😡😡😡😡😡😡😡😡😡😡😡😡😡  \n",
       "4                     @Kris_Sacrebleu Complete 🐂💩😡😡😡  "
      ]
     },
     "execution_count": 20,
     "metadata": {},
     "output_type": "execute_result"
    }
   ],
   "source": [
    "data.head()"
   ]
  },
  {
   "cell_type": "code",
   "execution_count": 23,
   "metadata": {
    "scrolled": true
   },
   "outputs": [
    {
     "data": {
      "text/plain": [
       "'Utterly disgusting!! 😡 https://t.co/4lm1j0LOnH'"
      ]
     },
     "execution_count": 23,
     "metadata": {},
     "output_type": "execute_result"
    }
   ],
   "source": [
    "# Example of a tweet containing \"😡\"\n",
    "\n",
    "data.iloc[1].text"
   ]
  },
  {
   "cell_type": "code",
   "execution_count": null,
   "metadata": {},
   "outputs": [],
   "source": []
  }
 ],
 "metadata": {
  "kernelspec": {
   "display_name": "Python 3",
   "language": "python",
   "name": "python3"
  },
  "language_info": {
   "codemirror_mode": {
    "name": "ipython",
    "version": 3
   },
   "file_extension": ".py",
   "mimetype": "text/x-python",
   "name": "python",
   "nbconvert_exporter": "python",
   "pygments_lexer": "ipython3",
   "version": "3.6.8"
  }
 },
 "nbformat": 4,
 "nbformat_minor": 2
}
