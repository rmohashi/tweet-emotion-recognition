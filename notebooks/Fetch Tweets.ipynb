{
 "cells": [
  {
   "cell_type": "markdown",
   "metadata": {},
   "source": [
    "# Fetch Tweets\n",
    "\n",
    "The main objective of this notebook is to show how we get the data from Twitter."
   ]
  },
  {
   "cell_type": "code",
   "execution_count": 1,
   "metadata": {},
   "outputs": [],
   "source": [
    "# Add project path to the PYTHONPATH\n",
    "\n",
    "import os\n",
    "import sys\n",
    "from pathlib import Path\n",
    "\n",
    "sys.path.append(Path(os.path.join(os.path.abspath(''), '../')).resolve().as_posix())"
   ]
  },
  {
   "cell_type": "code",
   "execution_count": 2,
   "metadata": {},
   "outputs": [],
   "source": [
    "from data_fetch.get_tweets import get_tweets"
   ]
  },
  {
   "cell_type": "markdown",
   "metadata": {},
   "source": [
    "## Hashtags\n",
    "\n",
    "We can use the hashtags to extract an emotion from the tweet"
   ]
  },
  {
   "cell_type": "code",
   "execution_count": 3,
   "metadata": {
    "scrolled": true
   },
   "outputs": [
    {
     "name": "stdout",
     "output_type": "stream",
     "text": [
      "Successfully connected to the Twitter API.\n",
      "100 #happy tweets\n"
     ]
    }
   ],
   "source": [
    "data = get_tweets('#happy', max_requests=1)"
   ]
  },
  {
   "cell_type": "code",
   "execution_count": 4,
   "metadata": {
    "scrolled": false
   },
   "outputs": [
    {
     "data": {
      "text/html": [
       "<div>\n",
       "<style scoped>\n",
       "    .dataframe tbody tr th:only-of-type {\n",
       "        vertical-align: middle;\n",
       "    }\n",
       "\n",
       "    .dataframe tbody tr th {\n",
       "        vertical-align: top;\n",
       "    }\n",
       "\n",
       "    .dataframe thead th {\n",
       "        text-align: right;\n",
       "    }\n",
       "</style>\n",
       "<table border=\"1\" class=\"dataframe\">\n",
       "  <thead>\n",
       "    <tr style=\"text-align: right;\">\n",
       "      <th></th>\n",
       "      <th>id</th>\n",
       "      <th>date</th>\n",
       "      <th>user</th>\n",
       "      <th>text</th>\n",
       "    </tr>\n",
       "  </thead>\n",
       "  <tbody>\n",
       "    <tr>\n",
       "      <th>0</th>\n",
       "      <td>1146409533981544449</td>\n",
       "      <td>2019-07-03 13:25:06</td>\n",
       "      <td>WBInstitute</td>\n",
       "      <td>\"Could we be happy together, not simply as the...</td>\n",
       "    </tr>\n",
       "    <tr>\n",
       "      <th>1</th>\n",
       "      <td>1146409483566030848</td>\n",
       "      <td>2019-07-03 13:24:54</td>\n",
       "      <td>BisqueeFashion</td>\n",
       "      <td>[NEW] Floral Boho Maxi Dress with Flare Sleeve...</td>\n",
       "    </tr>\n",
       "    <tr>\n",
       "      <th>2</th>\n",
       "      <td>1146409326254256128</td>\n",
       "      <td>2019-07-03 13:24:17</td>\n",
       "      <td>HandsUnited1</td>\n",
       "      <td>With our seal of transparency, we took a vow a...</td>\n",
       "    </tr>\n",
       "    <tr>\n",
       "      <th>3</th>\n",
       "      <td>1146409054450933760</td>\n",
       "      <td>2019-07-03 13:23:12</td>\n",
       "      <td>GoWellento</td>\n",
       "      <td>Don’t compare yourself to other people. Compar...</td>\n",
       "    </tr>\n",
       "    <tr>\n",
       "      <th>4</th>\n",
       "      <td>1146408896753491968</td>\n",
       "      <td>2019-07-03 13:22:34</td>\n",
       "      <td>2BUinspiration</td>\n",
       "      <td>Appreciate life &amp;amp; your everyday accomplish...</td>\n",
       "    </tr>\n",
       "  </tbody>\n",
       "</table>\n",
       "</div>"
      ],
      "text/plain": [
       "                    id                date            user  \\\n",
       "0  1146409533981544449 2019-07-03 13:25:06     WBInstitute   \n",
       "1  1146409483566030848 2019-07-03 13:24:54  BisqueeFashion   \n",
       "2  1146409326254256128 2019-07-03 13:24:17    HandsUnited1   \n",
       "3  1146409054450933760 2019-07-03 13:23:12      GoWellento   \n",
       "4  1146408896753491968 2019-07-03 13:22:34  2BUinspiration   \n",
       "\n",
       "                                                text  \n",
       "0  \"Could we be happy together, not simply as the...  \n",
       "1  [NEW] Floral Boho Maxi Dress with Flare Sleeve...  \n",
       "2  With our seal of transparency, we took a vow a...  \n",
       "3  Don’t compare yourself to other people. Compar...  \n",
       "4  Appreciate life &amp; your everyday accomplish...  "
      ]
     },
     "execution_count": 4,
     "metadata": {},
     "output_type": "execute_result"
    }
   ],
   "source": [
    "data.head()"
   ]
  },
  {
   "cell_type": "code",
   "execution_count": 5,
   "metadata": {},
   "outputs": [
    {
     "data": {
      "text/plain": [
       "'\"You\\'ll hear a beautiful sound of love coming down\"\\n.\\n.\\n.\\n.\\n.\\n.\\n.\\n.\\n.\\n.\\n.\\n.\\n.\\n.\\n.\\n.\\n.\\n.\\n.\\n.\\n.\\n.\\n.\\n.\\n.\\n.\\n.\\n.\\n.\\n.\\n.\\n.\\n.\\n.\\n#smile #happy #Philippines #Thailand #Japan #selca #selfie #positivevibes #happy #lovely… https://t.co/WBMdlLuQDg'"
      ]
     },
     "execution_count": 5,
     "metadata": {},
     "output_type": "execute_result"
    }
   ],
   "source": [
    "# Example of a tweet containing \"#happy\"\n",
    "\n",
    "data.iloc[6].text"
   ]
  },
  {
   "cell_type": "markdown",
   "metadata": {},
   "source": [
    "## Emoji\n",
    "\n",
    "Also, it's possible to search for emojis"
   ]
  },
  {
   "cell_type": "code",
   "execution_count": 6,
   "metadata": {},
   "outputs": [
    {
     "name": "stdout",
     "output_type": "stream",
     "text": [
      "Successfully connected to the Twitter API.\n",
      "100 :face_with_tears_of_joy: tweets\n"
     ]
    }
   ],
   "source": [
    "data = get_tweets(':face_with_tears_of_joy:', max_requests=1)"
   ]
  },
  {
   "cell_type": "code",
   "execution_count": 7,
   "metadata": {
    "scrolled": false
   },
   "outputs": [
    {
     "data": {
      "text/html": [
       "<div>\n",
       "<style scoped>\n",
       "    .dataframe tbody tr th:only-of-type {\n",
       "        vertical-align: middle;\n",
       "    }\n",
       "\n",
       "    .dataframe tbody tr th {\n",
       "        vertical-align: top;\n",
       "    }\n",
       "\n",
       "    .dataframe thead th {\n",
       "        text-align: right;\n",
       "    }\n",
       "</style>\n",
       "<table border=\"1\" class=\"dataframe\">\n",
       "  <thead>\n",
       "    <tr style=\"text-align: right;\">\n",
       "      <th></th>\n",
       "      <th>id</th>\n",
       "      <th>date</th>\n",
       "      <th>user</th>\n",
       "      <th>text</th>\n",
       "    </tr>\n",
       "  </thead>\n",
       "  <tbody>\n",
       "    <tr>\n",
       "      <th>0</th>\n",
       "      <td>1146409622527455234</td>\n",
       "      <td>2019-07-03 13:25:27</td>\n",
       "      <td>ShortyBlanco3</td>\n",
       "      <td>@ter_riel He post her... &amp;amp; she clicked tf ...</td>\n",
       "    </tr>\n",
       "    <tr>\n",
       "      <th>1</th>\n",
       "      <td>1146409622405693441</td>\n",
       "      <td>2019-07-03 13:25:27</td>\n",
       "      <td>hrj_rj</td>\n",
       "      <td>hellooo new moots, reply this with ur name and...</td>\n",
       "    </tr>\n",
       "    <tr>\n",
       "      <th>2</th>\n",
       "      <td>1146409622208733184</td>\n",
       "      <td>2019-07-03 13:25:27</td>\n",
       "      <td>chukumabenedict</td>\n",
       "      <td>@DindeyRukky @MBuhari @ProfOsinbajo @fkeyamo 😂...</td>\n",
       "    </tr>\n",
       "    <tr>\n",
       "      <th>3</th>\n",
       "      <td>1146409622070333441</td>\n",
       "      <td>2019-07-03 13:25:27</td>\n",
       "      <td>advocatemnyama</td>\n",
       "      <td>@Just_Veev 😂 sha Vee ndabva ndapera simba. We ...</td>\n",
       "    </tr>\n",
       "    <tr>\n",
       "      <th>4</th>\n",
       "      <td>1146409621260775425</td>\n",
       "      <td>2019-07-03 13:25:27</td>\n",
       "      <td>KwakuAbrantie5</td>\n",
       "      <td>@ComedianOB @irenelogangh 😂😂 I hear boss</td>\n",
       "    </tr>\n",
       "  </tbody>\n",
       "</table>\n",
       "</div>"
      ],
      "text/plain": [
       "                    id                date             user  \\\n",
       "0  1146409622527455234 2019-07-03 13:25:27    ShortyBlanco3   \n",
       "1  1146409622405693441 2019-07-03 13:25:27           hrj_rj   \n",
       "2  1146409622208733184 2019-07-03 13:25:27  chukumabenedict   \n",
       "3  1146409622070333441 2019-07-03 13:25:27   advocatemnyama   \n",
       "4  1146409621260775425 2019-07-03 13:25:27   KwakuAbrantie5   \n",
       "\n",
       "                                                text  \n",
       "0  @ter_riel He post her... &amp; she clicked tf ...  \n",
       "1  hellooo new moots, reply this with ur name and...  \n",
       "2  @DindeyRukky @MBuhari @ProfOsinbajo @fkeyamo 😂...  \n",
       "3  @Just_Veev 😂 sha Vee ndabva ndapera simba. We ...  \n",
       "4           @ComedianOB @irenelogangh 😂😂 I hear boss  "
      ]
     },
     "execution_count": 7,
     "metadata": {},
     "output_type": "execute_result"
    }
   ],
   "source": [
    "data.head()"
   ]
  },
  {
   "cell_type": "code",
   "execution_count": 8,
   "metadata": {
    "scrolled": true
   },
   "outputs": [
    {
     "data": {
      "text/plain": [
       "\"@DindeyRukky @MBuhari @ProfOsinbajo @fkeyamo 😂😂dear Rukky\\nA sex toy shop has nothing to do with our morals as a Nation...and it doesn't mean the world will soon end. I kind of feel sorry for you though. But don't worry dear, you will be fine laslas\""
      ]
     },
     "execution_count": 8,
     "metadata": {},
     "output_type": "execute_result"
    }
   ],
   "source": [
    "# Example of a tweet containing \"😂\"\n",
    "\n",
    "data.iloc[2].text"
   ]
  },
  {
   "cell_type": "code",
   "execution_count": null,
   "metadata": {},
   "outputs": [],
   "source": []
  }
 ],
 "metadata": {
  "kernelspec": {
   "display_name": "Python 3",
   "language": "python",
   "name": "python3"
  },
  "language_info": {
   "codemirror_mode": {
    "name": "ipython",
    "version": 3
   },
   "file_extension": ".py",
   "mimetype": "text/x-python",
   "name": "python",
   "nbconvert_exporter": "python",
   "pygments_lexer": "ipython3",
   "version": "3.6.8"
  }
 },
 "nbformat": 4,
 "nbformat_minor": 2
}
